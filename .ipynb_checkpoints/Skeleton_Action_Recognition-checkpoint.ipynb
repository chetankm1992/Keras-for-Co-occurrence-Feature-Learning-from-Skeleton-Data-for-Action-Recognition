{
 "cells": [
  {
   "cell_type": "code",
   "execution_count": null,
   "metadata": {},
   "outputs": [],
   "source": [
    "import numpy as np\n",
    "import math\n",
    "from keras import optimizers\n",
    "from utils import *\n",
    "from model import *\n",
    "import matlab.engine\n",
    "from keras.models import load_model\n",
    "from IPython.display import display, Javascript"
   ]
  },
  {
   "cell_type": "markdown",
   "metadata": {},
   "source": [
    "# Load Model"
   ]
  },
  {
   "cell_type": "code",
   "execution_count": null,
   "metadata": {},
   "outputs": [],
   "source": [
    "my_model = load_model('my_model.h5')"
   ]
  },
  {
   "cell_type": "markdown",
   "metadata": {},
   "source": [
    "# Test model on Data from Matlab"
   ]
  },
  {
   "cell_type": "code",
   "execution_count": null,
   "metadata": {},
   "outputs": [],
   "source": [
    "def zoom1(p):\n",
    "    l = p.shape[0]\n",
    "    p_new = np.empty([16,25,3]) \n",
    "    for m in range(25):\n",
    "        for n in range(3):\n",
    "            p_new[:,m,n] = inter.zoom(p[:,m,n],16/l)[:16]\n",
    "    return p_new\n",
    "\n",
    "for it in range(1,2):\n",
    "\n",
    "    i = -1\n",
    "    X_TEST_0 = []\n",
    "    X_TEST_1 = []\n",
    "    X_TEST_2 = []\n",
    "    X_TEST_3 = []\n",
    "    Y_TEST = []\n",
    "\n",
    "\n",
    "    eng = matlab.engine.start_matlab()\n",
    "    eng.live_demo(nargout=0)\n",
    "    \n",
    "    skeleton_data = pd.read_csv(\"live_demo_data/live_data.txt\", sep=\" \", header=None)\n",
    "\n",
    "    p_0 = skeleton_data.iloc[:,:75]\n",
    "    p_0 = np.copy(p_0)\n",
    "    p_0 = p_0.reshape([-1,25,3])\n",
    "    t_0 = p_0.shape[0]\n",
    "    # if the number of frame is more than 20, crop by scale 0.9, then rescale by interploration again\n",
    "    if t_0>=20: \n",
    "        p_0 = p_0[int(t_0*0.05):int(t_0*0.95),:,:]\n",
    "        p_0 = zoom1(p_0)\n",
    "    elif t_0<20:\n",
    "        p_0 = zoom1(p_0)\n",
    "    p_0_diff = p_0[1:,:,:]-p_0[:-1,:,:]\n",
    "    p_0_diff = np.concatenate((p_0_diff,np.expand_dims(p_0_diff[-1,:,:],axis=0)))\n",
    "\n",
    "    p_1 = skeleton_data.iloc[:,75:]\n",
    "    p_1 = np.copy(p_1)\n",
    "    p_1 = p_0.reshape([-1,25,3])\n",
    "    t_1 = p_1.shape[0]\n",
    "    if t_1 >=20:  \n",
    "        p_1 = p_1[int(t_1*0.05):int(t_1*0.95),:,:]\n",
    "        p_1 = zoom1(p_1)\n",
    "    elif t_1 <20:\n",
    "        p_1 = zoom1(p_1)\n",
    "    p_1_diff = p_1[1:,:,:]-p_1[:-1,:,:]\n",
    "    p_1_diff = np.concatenate((p_1_diff,np.expand_dims(p_1_diff[-1,:,:],axis=0)))\n",
    "\n",
    "    X_TEST_0.append(p_0)\n",
    "    X_TEST_1.append(p_0_diff)\n",
    "    X_TEST_2.append(p_1)\n",
    "    X_TEST_3.append(p_1_diff)\n",
    "\n",
    "    label = np.zeros(6)\n",
    "    #label[4] = 1\n",
    "    Y_TEST.append(label)\n",
    "\n",
    "    X_TEST_0 = np.stack(X_TEST_0)\n",
    "    X_TEST_1 = np.stack(X_TEST_1)\n",
    "    X_TEST_2 = np.stack(X_TEST_2)\n",
    "    X_TEST_3 = np.stack(X_TEST_3)\n",
    "    Y_TEST = np.stack(Y_TEST)\n",
    "\n",
    "    Y_pred = my_model.predict([X_TEST_0,X_TEST_1,X_TEST_2,X_TEST_3])\n",
    "\n",
    "    result = np.argmax(Y_pred, axis=1)\n",
    "    if(result == 1):\n",
    "        #print (\"Hand shake\")\n",
    "        result_action = \"Hand Shake\"\n",
    "    elif(result == 2):\n",
    "        #print (\"Pointing to other person\")\n",
    "        result_action = \"Pointing to other person\"\n",
    "    elif(result == 3):\n",
    "        #print (\"Giving book to other person\")\n",
    "        result_action = \"Giving book to other person\"\n",
    "    elif(result == 4):\n",
    "        #print (\"Hugging to other person\")\n",
    "        result_action = \"Hugging to other person\"\n",
    "    elif(result == 5):\n",
    "        #print (\"Patting back of other person\")\n",
    "        result_action = \"Patting back of other person\"\n",
    "        \n",
    "from IPython.display import display, HTML\n",
    "js = \"<script>alert('\" + result_action + \"');</script>\"\n",
    "display(HTML(js))"
   ]
  },
  {
   "cell_type": "code",
   "execution_count": null,
   "metadata": {},
   "outputs": [],
   "source": []
  }
 ],
 "metadata": {
  "kernelspec": {
   "display_name": "Python 3",
   "language": "python",
   "name": "python3"
  },
  "language_info": {
   "codemirror_mode": {
    "name": "ipython",
    "version": 3
   },
   "file_extension": ".py",
   "mimetype": "text/x-python",
   "name": "python",
   "nbconvert_exporter": "python",
   "pygments_lexer": "ipython3",
   "version": "3.6.5"
  }
 },
 "nbformat": 4,
 "nbformat_minor": 2
}
